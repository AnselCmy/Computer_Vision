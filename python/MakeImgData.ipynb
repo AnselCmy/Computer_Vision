{
 "cells": [
  {
   "cell_type": "code",
   "execution_count": 79,
   "metadata": {
    "collapsed": true
   },
   "outputs": [],
   "source": [
    "%matplotlib inline\n",
    "import cv2\n",
    "import os\n",
    "import shutil\n",
    "import numpy as np\n",
    "import matplotlib.pyplot as plt"
   ]
  },
  {
   "cell_type": "code",
   "execution_count": 10,
   "metadata": {
    "collapsed": false
   },
   "outputs": [],
   "source": [
    "neg_path = \"../img/GLCM_SVM/origin_neg/\"\n",
    "pos_path = \"../img/GLCM_SVM/origin_pos/\"\n",
    "neg_imgs = os.listdir(neg_path)\n",
    "pos_imgs = os.listdir(pos_path)\n",
    "if '.DS_Store' in error_imgs:\n",
    "    error_imgs.remove('.DS_Store')"
   ]
  },
  {
   "cell_type": "code",
   "execution_count": 63,
   "metadata": {
    "collapsed": false
   },
   "outputs": [
    {
     "data": {
      "text/plain": [
       "True"
      ]
     },
     "execution_count": 63,
     "metadata": {},
     "output_type": "execute_result"
    },
    {
     "data": {
      "image/png": "[encoded data removed]",
      "text/plain": [
       "<matplotlib.figure.Figure at 0x11b639358>"
      ]
     },
     "metadata": {},
     "output_type": "display_data"
    }
   ],
   "source": [
    "test_a = np.array([[1,2,3],[2,3,4],[4,5,6]])\n",
    "test_b = np.array([[3,4,5],[4,5,6],[6,7,8]])\n",
    "plt.imshow(test_b, cmap='gray')\n",
    "cv2.imwrite(\"../img/GLCM_SVM/split_neg/test.jpg\", test_a)"
   ]
  },
  {
   "cell_type": "code",
   "execution_count": 28,
   "metadata": {
    "collapsed": false
   },
   "outputs": [
    {
     "data": {
      "image/png": "[encoded data removed]",
      "text/plain": [
       "<matplotlib.figure.Figure at 0x117217f98>"
      ]
     },
     "metadata": {},
     "output_type": "display_data"
    },
    {
     "data": {
      "text/plain": [
       "27"
      ]
     },
     "execution_count": 28,
     "metadata": {},
     "output_type": "execute_result"
    }
   ],
   "source": [
    "a = cv2.imread(neg_path+'1.bmp', cv2.IMREAD_GRAYSCALE)\n",
    "plt.imshow(a, cmap='gray')\n",
    "plt.show()\n",
    "a.shape[1]"
   ]
  },
  {
   "cell_type": "code",
   "execution_count": 69,
   "metadata": {
    "collapsed": false
   },
   "outputs": [],
   "source": [
    "cnt = 0\n",
    "width = 15\n",
    "\n",
    "split_neg_path = \"../img/GLCM_SVM/split_neg/\"\n",
    "exist = os.path.exists(split_neg_path)\n",
    "if not exist:\n",
    "    os.makedirs(split_neg_path) \n",
    "\n",
    "for name in neg_imgs:\n",
    "    img = cv2.imread(neg_path+name, cv2.IMREAD_GRAYSCALE)\n",
    "    cols = img.shape[0]\n",
    "    rows = img.shape[1]\n",
    "    for c in range(cols-width+1):\n",
    "        for r in range(rows-width+1):\n",
    "            temp = img[c:c+width, r:r+width]\n",
    "            cv2.imwrite(split_neg_path+'E'+str(cnt)+'.jpg', temp)\n",
    "            cnt += 1;"
   ]
  },
  {
   "cell_type": "code",
   "execution_count": 82,
   "metadata": {
    "collapsed": false
   },
   "outputs": [],
   "source": [
    "cnt = 0\n",
    "width = 15\n",
    "step = 3\n",
    "\n",
    "split_pos_path = \"../img/GLCM_SVM/split_pos/\"\n",
    "exist = os.path.exists(split_pos_path)\n",
    "if not exist:\n",
    "    os.makedirs(split_pos_path) \n",
    "else:\n",
    "    shutil.rmtree(split_pos_path)  \n",
    "    os.mkdir(split_pos_path) \n",
    "    \n",
    "\n",
    "for name in pos_imgs:\n",
    "    img = cv2.imread(pos_path+name, cv2.IMREAD_GRAYSCALE)\n",
    "    cols = img.shape[0]\n",
    "    rows = img.shape[1]\n",
    "    for c in range(0, cols-width+1, step):\n",
    "        for r in range(0, rows-width+1, step):\n",
    "            temp = img[c:c+width, r:r+width]\n",
    "            cv2.imwrite(split_pos_path+'R'+str(cnt)+'.jpg', temp)\n",
    "            cnt += 1;"
   ]
  },
  {
   "cell_type": "code",
   "execution_count": 68,
   "metadata": {
    "collapsed": false
   },
   "outputs": [
    {
     "data": {
      "text/plain": [
       "16"
      ]
     },
     "execution_count": 68,
     "metadata": {},
     "output_type": "execute_result"
    }
   ],
   "source": [
    "img = cv2.imread(neg_path+name, cv2.IMREAD_GRAYSCALE)\n",
    "img.shape[1]-width+1"
   ]
  },
  {
   "cell_type": "code",
   "execution_count": 58,
   "metadata": {
    "collapsed": false
   },
   "outputs": [
    {
     "data": {
      "text/plain": [
       "(15, 15)"
      ]
     },
     "execution_count": 58,
     "metadata": {},
     "output_type": "execute_result"
    }
   ],
   "source": [
    "img = cv2.imread(neg_path+name, cv2.IMREAD_GRAYSCALE)\n",
    "img[0:0+15,1:1+15].shape"
   ]
  },
  {
   "cell_type": "code",
   "execution_count": 56,
   "metadata": {
    "collapsed": false
   },
   "outputs": [
    {
     "data": {
      "text/plain": [
       "(15, 30)"
      ]
     },
     "execution_count": 56,
     "metadata": {},
     "output_type": "execute_result"
    }
   ],
   "source": [
    "img.shape"
   ]
  },
  {
   "cell_type": "code",
   "execution_count": 76,
   "metadata": {
    "collapsed": false
   },
   "outputs": [
    {
     "data": {
      "text/plain": [
       "[0, 2, 4, 6, 8]"
      ]
     },
     "execution_count": 76,
     "metadata": {},
     "output_type": "execute_result"
    }
   ],
   "source": [
    "list(range(0, 10, 2))"
   ]
  },
  {
   "cell_type": "code",
   "execution_count": null,
   "metadata": {
    "collapsed": true
   },
   "outputs": [],
   "source": []
  }
 ],
 "metadata": {
  "anaconda-cloud": {},
  "kernelspec": {
   "display_name": "Python [conda env:cv3]",
   "language": "python",
   "name": "conda-env-cv3-py"
  },
  "language_info": {
   "codemirror_mode": {
    "name": "ipython",
    "version": 3
   },
   "file_extension": ".py",
   "mimetype": "text/x-python",
   "name": "python",
   "nbconvert_exporter": "python",
   "pygments_lexer": "ipython3",
   "version": "3.6.2"
  }
 },
 "nbformat": 4,
 "nbformat_minor": 1
}
